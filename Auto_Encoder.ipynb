{
  "nbformat": 4,
  "nbformat_minor": 0,
  "metadata": {
    "colab": {
      "provenance": [],
      "authorship_tag": "ABX9TyNycvY5ZFHX3b8jqlRB1L9Q",
      "include_colab_link": true
    },
    "kernelspec": {
      "name": "python3",
      "display_name": "Python 3"
    },
    "language_info": {
      "name": "python"
    }
  },
  "cells": [
    {
      "cell_type": "markdown",
      "metadata": {
        "id": "view-in-github",
        "colab_type": "text"
      },
      "source": [
        "<a href=\"https://colab.research.google.com/github/Mahmoud-Rady2000/Deep-Learning./blob/main/Auto_Encoder.ipynb\" target=\"_parent\"><img src=\"https://colab.research.google.com/assets/colab-badge.svg\" alt=\"Open In Colab\"/></a>"
      ]
    },
    {
      "cell_type": "markdown",
      "source": [
        "**Importing libraries and packages**"
      ],
      "metadata": {
        "id": "DoN-CRlkEofk"
      }
    },
    {
      "cell_type": "code",
      "execution_count": 1,
      "metadata": {
        "id": "EywwLAiUEhsh"
      },
      "outputs": [],
      "source": [
        "import numpy as np\n",
        "from keras.layers import Input, Conv2D, MaxPooling2D, UpSampling2D\n",
        "from keras.models import Model\n",
        "from keras.datasets import mnist\n",
        "import matplotlib.pyplot as plt"
      ]
    },
    {
      "cell_type": "markdown",
      "source": [
        "**Loading Mnist dataset**"
      ],
      "metadata": {
        "id": "uNcehoC6EwlT"
      }
    },
    {
      "cell_type": "code",
      "source": [
        "(x_train, _), (x_test, _) = mnist.load_data()"
      ],
      "metadata": {
        "colab": {
          "base_uri": "https://localhost:8080/"
        },
        "id": "JAuh0WViEjCn",
        "outputId": "5c554f8f-8872-46fc-e983-d932757f07a9"
      },
      "execution_count": 2,
      "outputs": [
        {
          "output_type": "stream",
          "name": "stdout",
          "text": [
            "Downloading data from https://storage.googleapis.com/tensorflow/tf-keras-datasets/mnist.npz\n",
            "11490434/11490434 [==============================] - 1s 0us/step\n"
          ]
        }
      ]
    },
    {
      "cell_type": "markdown",
      "source": [
        "**Splitting the data into train and test and normalize the pixel values to the range [0, 1].**"
      ],
      "metadata": {
        "id": "7wXNIfYiKSN3"
      }
    },
    {
      "cell_type": "code",
      "source": [
        "x_train = x_train.astype('float32') / 255.0\n",
        "x_test = x_test.astype('float32') / 255.0"
      ],
      "metadata": {
        "id": "Z3Wc5Uw3EjD7"
      },
      "execution_count": 3,
      "outputs": []
    },
    {
      "cell_type": "markdown",
      "source": [
        "**Reshaping the data**"
      ],
      "metadata": {
        "id": "Jwl_85_wKkek"
      }
    },
    {
      "cell_type": "code",
      "source": [
        "# Reshape to (samples, height, width, channels)\n",
        "x_train = np.reshape(x_train, (len(x_train), 28, 28, 1))\n",
        "x_test = np.reshape(x_test, (len(x_test), 28, 28, 1))\n",
        "# where  each image is 28x28 pixels with a single channel (grayscale).\n"
      ],
      "metadata": {
        "id": "zlFzcX1oEjHq"
      },
      "execution_count": 4,
      "outputs": []
    },
    {
      "cell_type": "code",
      "source": [
        "input_img = Input(shape=(28, 28, 1))"
      ],
      "metadata": {
        "id": "TV21y0lCEjI1"
      },
      "execution_count": 5,
      "outputs": []
    },
    {
      "cell_type": "markdown",
      "source": [
        "**Defining define the encoder part of the autoencoder.**\n",
        "\n",
        "*It consists of several Conv2D layers followed by MaxPooling2D layers.\n",
        "\n",
        "*The Conv2D layers learn spatial hierarchies of features\n",
        "in the input images through convolution operations with learnable filters.\n",
        "\n",
        "*ReLU activation functions are used to introduce non-linearity.\n",
        "\n",
        "*The MaxPooling2D layers downsample the spatial dimensions of the feature maps,\n",
        "reducing their size while retaining the most important information."
      ],
      "metadata": {
        "id": "iEO4bkhYLIXu"
      }
    },
    {
      "cell_type": "code",
      "source": [
        "# Encoder\n",
        "encoded = Conv2D(16, (3, 3), activation='relu', padding='same')(input_img)\n",
        "encoded = MaxPooling2D((2, 2), padding='same')(encoded)\n",
        "encoded = Conv2D(8, (3, 3), activation='relu', padding='same')(encoded)\n",
        "encoded = MaxPooling2D((2, 2), padding='same')(encoded)\n",
        "encoded = Conv2D(8, (3, 3), activation='relu', padding='same')(encoded)\n",
        "encoded = MaxPooling2D((2, 2), padding='same')(encoded)"
      ],
      "metadata": {
        "id": "-RkX6tAfEjMu"
      },
      "execution_count": 6,
      "outputs": []
    },
    {
      "cell_type": "markdown",
      "source": [
        "\n",
        "**Defining the decoder part of the autoencoder aims to reconstruct the original input images**\n",
        "\n",
        "*from the encoded representations.\n",
        "*It consists of Conv2D layers followed by UpSampling2D layers.\n",
        "\n",
        "*Conv2D layers in the decoder learn to reconstruct the spatial structures\n",
        " and patterns from the encoded representations.\n",
        "\n",
        "*UpSampling2D layers upsample the feature maps,\n",
        "increasing their spatial dimensions to match the original input image size."
      ],
      "metadata": {
        "id": "MAFNjnpULxzo"
      }
    },
    {
      "cell_type": "code",
      "source": [
        "# Decoder\n",
        "decoded = Conv2D(8, (3, 3), activation='relu', padding='same')(encoded)\n",
        "decoded = UpSampling2D((2, 2))(decoded)\n",
        "decoded = Conv2D(8, (3, 3), activation='relu', padding='same')(decoded)\n",
        "decoded = UpSampling2D((2, 2))(decoded)\n",
        "decoded = Conv2D(16, (3, 3), activation='relu')(decoded)\n",
        "decoded = UpSampling2D((2, 2))(decoded)\n",
        "decoded = Conv2D(1, (3, 3), activation='sigmoid', padding='same')(decoded)\n"
      ],
      "metadata": {
        "id": "ZKxDnXcSEjNi"
      },
      "execution_count": 7,
      "outputs": []
    },
    {
      "cell_type": "markdown",
      "source": [
        "**Compiling and fitting the model**\n",
        "\n",
        "\n",
        "\n",
        "\n",
        "\n",
        "\n"
      ],
      "metadata": {
        "id": "by3RM5kVMQuf"
      }
    },
    {
      "cell_type": "code",
      "source": [
        "autoencoder = Model(input_img, decoded)\n",
        "autoencoder.compile(optimizer='adam', loss='binary_crossentropy')"
      ],
      "metadata": {
        "id": "Ol_ZQGhpFRPm"
      },
      "execution_count": 8,
      "outputs": []
    },
    {
      "cell_type": "code",
      "source": [
        "autoencoder.fit(x_train, x_train,\n",
        "                epochs=50,\n",
        "                batch_size=128,\n",
        "                shuffle=True,\n",
        "                validation_data=(x_test, x_test))"
      ],
      "metadata": {
        "colab": {
          "base_uri": "https://localhost:8080/"
        },
        "id": "zKCGjVQqFRTS",
        "outputId": "ed607017-0d7b-40f7-f13e-4d4a9cb02f35"
      },
      "execution_count": 9,
      "outputs": [
        {
          "output_type": "stream",
          "name": "stdout",
          "text": [
            "Epoch 1/50\n",
            "469/469 [==============================] - 81s 166ms/step - loss: 0.2142 - val_loss: 0.1473\n",
            "Epoch 2/50\n",
            "469/469 [==============================] - 64s 137ms/step - loss: 0.1380 - val_loss: 0.1297\n",
            "Epoch 3/50\n",
            "469/469 [==============================] - 65s 138ms/step - loss: 0.1266 - val_loss: 0.1226\n",
            "Epoch 4/50\n",
            "469/469 [==============================] - 65s 139ms/step - loss: 0.1201 - val_loss: 0.1163\n",
            "Epoch 5/50\n",
            "469/469 [==============================] - 66s 141ms/step - loss: 0.1153 - val_loss: 0.1125\n",
            "Epoch 6/50\n",
            "469/469 [==============================] - 64s 137ms/step - loss: 0.1119 - val_loss: 0.1096\n",
            "Epoch 7/50\n",
            "469/469 [==============================] - 64s 136ms/step - loss: 0.1095 - val_loss: 0.1074\n",
            "Epoch 8/50\n",
            "469/469 [==============================] - 64s 136ms/step - loss: 0.1077 - val_loss: 0.1057\n",
            "Epoch 9/50\n",
            "469/469 [==============================] - 65s 138ms/step - loss: 0.1063 - val_loss: 0.1046\n",
            "Epoch 10/50\n",
            "469/469 [==============================] - 64s 136ms/step - loss: 0.1051 - val_loss: 0.1036\n",
            "Epoch 11/50\n",
            "469/469 [==============================] - 66s 140ms/step - loss: 0.1041 - val_loss: 0.1032\n",
            "Epoch 12/50\n",
            "469/469 [==============================] - 64s 137ms/step - loss: 0.1033 - val_loss: 0.1017\n",
            "Epoch 13/50\n",
            "469/469 [==============================] - 64s 137ms/step - loss: 0.1026 - val_loss: 0.1015\n",
            "Epoch 14/50\n",
            "469/469 [==============================] - 64s 136ms/step - loss: 0.1019 - val_loss: 0.1005\n",
            "Epoch 15/50\n",
            "469/469 [==============================] - 64s 136ms/step - loss: 0.1013 - val_loss: 0.1002\n",
            "Epoch 16/50\n",
            "469/469 [==============================] - 66s 141ms/step - loss: 0.1008 - val_loss: 0.0999\n",
            "Epoch 17/50\n",
            "469/469 [==============================] - 64s 137ms/step - loss: 0.1002 - val_loss: 0.0989\n",
            "Epoch 18/50\n",
            "469/469 [==============================] - 65s 139ms/step - loss: 0.0997 - val_loss: 0.0985\n",
            "Epoch 19/50\n",
            "469/469 [==============================] - 77s 164ms/step - loss: 0.0992 - val_loss: 0.0979\n",
            "Epoch 20/50\n",
            "469/469 [==============================] - 76s 162ms/step - loss: 0.0988 - val_loss: 0.0978\n",
            "Epoch 21/50\n",
            "469/469 [==============================] - 71s 152ms/step - loss: 0.0984 - val_loss: 0.0972\n",
            "Epoch 22/50\n",
            "469/469 [==============================] - 83s 177ms/step - loss: 0.0980 - val_loss: 0.0967\n",
            "Epoch 23/50\n",
            "469/469 [==============================] - 84s 179ms/step - loss: 0.0976 - val_loss: 0.0963\n",
            "Epoch 24/50\n",
            "469/469 [==============================] - 77s 164ms/step - loss: 0.0973 - val_loss: 0.0964\n",
            "Epoch 25/50\n",
            "469/469 [==============================] - 85s 181ms/step - loss: 0.0970 - val_loss: 0.0957\n",
            "Epoch 26/50\n",
            "469/469 [==============================] - 83s 178ms/step - loss: 0.0967 - val_loss: 0.0953\n",
            "Epoch 27/50\n",
            "469/469 [==============================] - 70s 150ms/step - loss: 0.0964 - val_loss: 0.0950\n",
            "Epoch 28/50\n",
            "469/469 [==============================] - 77s 164ms/step - loss: 0.0961 - val_loss: 0.0948\n",
            "Epoch 29/50\n",
            "469/469 [==============================] - 82s 174ms/step - loss: 0.0959 - val_loss: 0.0945\n",
            "Epoch 30/50\n",
            "469/469 [==============================] - 68s 145ms/step - loss: 0.0957 - val_loss: 0.0943\n",
            "Epoch 31/50\n",
            "469/469 [==============================] - 77s 164ms/step - loss: 0.0955 - val_loss: 0.0942\n",
            "Epoch 32/50\n",
            "469/469 [==============================] - 67s 143ms/step - loss: 0.0953 - val_loss: 0.0940\n",
            "Epoch 33/50\n",
            "469/469 [==============================] - 64s 137ms/step - loss: 0.0950 - val_loss: 0.0944\n",
            "Epoch 34/50\n",
            "469/469 [==============================] - 66s 140ms/step - loss: 0.0948 - val_loss: 0.0940\n",
            "Epoch 35/50\n",
            "469/469 [==============================] - 64s 136ms/step - loss: 0.0947 - val_loss: 0.0935\n",
            "Epoch 36/50\n",
            "469/469 [==============================] - 66s 142ms/step - loss: 0.0945 - val_loss: 0.0932\n",
            "Epoch 37/50\n",
            "469/469 [==============================] - 66s 141ms/step - loss: 0.0942 - val_loss: 0.0931\n",
            "Epoch 38/50\n",
            "469/469 [==============================] - 65s 138ms/step - loss: 0.0940 - val_loss: 0.0931\n",
            "Epoch 39/50\n",
            "469/469 [==============================] - 66s 141ms/step - loss: 0.0939 - val_loss: 0.0928\n",
            "Epoch 40/50\n",
            "469/469 [==============================] - 65s 138ms/step - loss: 0.0937 - val_loss: 0.0925\n",
            "Epoch 41/50\n",
            "469/469 [==============================] - 65s 138ms/step - loss: 0.0935 - val_loss: 0.0926\n",
            "Epoch 42/50\n",
            "469/469 [==============================] - 65s 138ms/step - loss: 0.0934 - val_loss: 0.0920\n",
            "Epoch 43/50\n",
            "469/469 [==============================] - 64s 137ms/step - loss: 0.0932 - val_loss: 0.0919\n",
            "Epoch 44/50\n",
            "469/469 [==============================] - 65s 139ms/step - loss: 0.0931 - val_loss: 0.0919\n",
            "Epoch 45/50\n",
            "469/469 [==============================] - 64s 136ms/step - loss: 0.0929 - val_loss: 0.0916\n",
            "Epoch 46/50\n",
            "469/469 [==============================] - 64s 137ms/step - loss: 0.0927 - val_loss: 0.0916\n",
            "Epoch 47/50\n",
            "469/469 [==============================] - 66s 140ms/step - loss: 0.0926 - val_loss: 0.0915\n",
            "Epoch 48/50\n",
            "469/469 [==============================] - 64s 137ms/step - loss: 0.0925 - val_loss: 0.0911\n",
            "Epoch 49/50\n",
            "469/469 [==============================] - 66s 140ms/step - loss: 0.0924 - val_loss: 0.0913\n",
            "Epoch 50/50\n",
            "469/469 [==============================] - 64s 137ms/step - loss: 0.0922 - val_loss: 0.0909\n"
          ]
        },
        {
          "output_type": "execute_result",
          "data": {
            "text/plain": [
              "<keras.src.callbacks.History at 0x7e6d75256350>"
            ]
          },
          "metadata": {},
          "execution_count": 9
        }
      ]
    },
    {
      "cell_type": "markdown",
      "source": [
        "**After training, use the trained autoencoder to reconstruct images from the test set.**\n",
        "\n"
      ],
      "metadata": {
        "id": "dC--nV0YMwoS"
      }
    },
    {
      "cell_type": "code",
      "source": [
        "decoded_imgs = autoencoder.predict(x_test)\n"
      ],
      "metadata": {
        "colab": {
          "base_uri": "https://localhost:8080/"
        },
        "id": "aRWNyWLHEjQ_",
        "outputId": "8078f1d9-f403-4194-97f6-51d6c79525cb"
      },
      "execution_count": 10,
      "outputs": [
        {
          "output_type": "stream",
          "name": "stdout",
          "text": [
            "313/313 [==============================] - 5s 15ms/step\n"
          ]
        }
      ]
    },
    {
      "cell_type": "markdown",
      "source": [
        "**ploting a comparison** of original images and their reconstructed counterparts\n",
        "to visually assess the performance of the autoencoder."
      ],
      "metadata": {
        "id": "j0T5Alv6N8M_"
      }
    },
    {
      "cell_type": "code",
      "source": [
        "n = 10\n",
        "plt.figure(figsize=(20, 4))\n",
        "for i in range(n):\n",
        "    ax = plt.subplot(2, n, i + 1)\n",
        "    plt.imshow(x_test[i].reshape(28, 28))\n",
        "    plt.gray()\n",
        "    ax.get_xaxis().set_visible(False)\n",
        "    ax.get_yaxis().set_visible(False)\n",
        "\n",
        "    ax = plt.subplot(2, n, i + 1 + n)\n",
        "    plt.imshow(decoded_imgs[i].reshape(28, 28))\n",
        "    plt.gray()\n",
        "    ax.get_xaxis().set_visible(False)\n",
        "    ax.get_yaxis().set_visible(False)\n",
        "plt.show()\n"
      ],
      "metadata": {
        "colab": {
          "base_uri": "https://localhost:8080/",
          "height": 277
        },
        "id": "DzVKTkWzFonj",
        "outputId": "e3e5c62a-1275-4caf-e65e-0c5fa75d249c"
      },
      "execution_count": 11,
      "outputs": [
        {
          "output_type": "display_data",
          "data": {
            "text/plain": [
              "<Figure size 2000x400 with 20 Axes>"
            ],
            "image/png": "[encoded data removed]"
          },
          "metadata": {}
        }
      ]
    },
    {
      "cell_type": "code",
      "source": [],
      "metadata": {
        "id": "386r_QxOFort"
      },
      "execution_count": null,
      "outputs": []
    }
  ]
}