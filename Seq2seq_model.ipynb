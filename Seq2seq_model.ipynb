{
  "cells": [
    {
      "cell_type": "markdown",
      "metadata": {
        "id": "view-in-github",
        "colab_type": "text"
      },
      "source": [
        "<a href=\"https://colab.research.google.com/github/Mahmoud-Rady2000/Deep-Learning./blob/main/Seq2seq_model.ipynb\" target=\"_parent\"><img src=\"https://colab.research.google.com/assets/colab-badge.svg\" alt=\"Open In Colab\"/></a>"
      ]
    },
    {
      "cell_type": "code",
      "execution_count": null,
      "metadata": {
        "id": "DrfSDr6o_NRe"
      },
      "outputs": [],
      "source": [
        "!pip install kaggle"
      ]
    },
    {
      "cell_type": "code",
      "execution_count": null,
      "metadata": {
        "id": "6XBnlhcy_kh0"
      },
      "outputs": [],
      "source": [
        "from google.colab import drive\n",
        "drive.mount('/content/drive')\n",
        "\n",
        "!mkdir ~/.kaggle"
      ]
    },
    {
      "cell_type": "code",
      "execution_count": 3,
      "metadata": {
        "id": "q6Esj_1W_km1"
      },
      "outputs": [],
      "source": [
        "!cp /content/drive/MyDrive/kaggle.json ~/.kaggle"
      ]
    },
    {
      "cell_type": "code",
      "execution_count": null,
      "metadata": {
        "id": "_fAAPp0j_kpZ"
      },
      "outputs": [],
      "source": [
        "import os\n",
        "\n",
        "os.system(\"chmod 600 ~/.kaggle/kaggle.json\")\n",
        "\n",
        "!kaggle datasets download -d samirmoustafa/arabic-to-english-translation-sentences"
      ]
    },
    {
      "cell_type": "code",
      "execution_count": null,
      "metadata": {
        "id": "WPrdB7GL_sWq"
      },
      "outputs": [],
      "source": [
        "!unzip arabic-to-english-translation-sentences"
      ]
    },
    {
      "cell_type": "markdown",
      "metadata": {
        "id": "HniYWJxDz5Zg"
      },
      "source": [
        "---------------------------------------------------------------------------------------------------------------------"
      ]
    },
    {
      "cell_type": "markdown",
      "source": [
        "**Importing libraries and packages**\n"
      ],
      "metadata": {
        "id": "_zmDb1fX6sni"
      }
    },
    {
      "cell_type": "code",
      "execution_count": 1,
      "metadata": {
        "id": "HXrJVh8dtzjM"
      },
      "outputs": [],
      "source": [
        "import pandas as pd\n",
        "import numpy as np\n",
        "import matplotlib.pyplot as plt\n",
        "import seaborn as sns\n",
        "%matplotlib inline\n",
        "\n",
        "import tensorflow as tf\n",
        "from tensorflow import keras\n",
        "from tensorflow.keras.layers import Dense,LSTM,TimeDistributed,RepeatVector,GRU,Embedding\n",
        "from tensorflow.keras.models import Model,Sequential\n",
        "from tensorflow.keras.preprocessing.text import Tokenizer\n",
        "from tensorflow.keras.preprocessing.sequence import pad_sequences\n",
        "from sklearn.model_selection import train_test_split\n",
        "\n",
        "import warnings\n",
        "warnings.filterwarnings(\"ignore\")"
      ]
    },
    {
      "cell_type": "markdown",
      "metadata": {
        "id": "vO_1eHakzPi1"
      },
      "source": [
        "-----------------------------------------------------------------------------------------------------------------"
      ]
    },
    {
      "cell_type": "markdown",
      "source": [
        "**Loading dataset**"
      ],
      "metadata": {
        "id": "0v9IDRk862XN"
      }
    },
    {
      "cell_type": "code",
      "execution_count": 2,
      "metadata": {
        "id": "tXzixk9BmfVh"
      },
      "outputs": [],
      "source": [
        "df=pd.read_csv(\"ara_eng.txt\",delimiter=\"\\t\",names=[\"english\",\"arabic\"])"
      ]
    },
    {
      "cell_type": "code",
      "execution_count": 3,
      "metadata": {
        "id": "nArOr_QTmfYK",
        "colab": {
          "base_uri": "https://localhost:8080/",
          "height": 206
        },
        "outputId": "da2f1f77-7529-447b-e0d1-f622e8bb9f55"
      },
      "outputs": [
        {
          "output_type": "execute_result",
          "data": {
            "text/plain": [
              "  english   arabic\n",
              "0     Hi.  مرحبًا.\n",
              "1    Run!    اركض!\n",
              "2   Help!  النجدة!\n",
              "3   Jump!    اقفز!\n",
              "4   Stop!      قف!"
            ],
            "text/html": [
              "\n",
              "  <div id=\"df-cb160058-5d42-4534-a5cd-249a06ad59d2\" class=\"colab-df-container\">\n",
              "    <div>\n",
              "<style scoped>\n",
              "    .dataframe tbody tr th:only-of-type {\n",
              "        vertical-align: middle;\n",
              "    }\n",
              "\n",
              "    .dataframe tbody tr th {\n",
              "        vertical-align: top;\n",
              "    }\n",
              "\n",
              "    .dataframe thead th {\n",
              "        text-align: right;\n",
              "    }\n",
              "</style>\n",
              "<table border=\"1\" class=\"dataframe\">\n",
              "  <thead>\n",
              "    <tr style=\"text-align: right;\">\n",
              "      <th></th>\n",
              "      <th>english</th>\n",
              "      <th>arabic</th>\n",
              "    </tr>\n",
              "  </thead>\n",
              "  <tbody>\n",
              "    <tr>\n",
              "      <th>0</th>\n",
              "      <td>Hi.</td>\n",
              "      <td>مرحبًا.</td>\n",
              "    </tr>\n",
              "    <tr>\n",
              "      <th>1</th>\n",
              "      <td>Run!</td>\n",
              "      <td>اركض!</td>\n",
              "    </tr>\n",
              "    <tr>\n",
              "      <th>2</th>\n",
              "      <td>Help!</td>\n",
              "      <td>النجدة!</td>\n",
              "    </tr>\n",
              "    <tr>\n",
              "      <th>3</th>\n",
              "      <td>Jump!</td>\n",
              "      <td>اقفز!</td>\n",
              "    </tr>\n",
              "    <tr>\n",
              "      <th>4</th>\n",
              "      <td>Stop!</td>\n",
              "      <td>قف!</td>\n",
              "    </tr>\n",
              "  </tbody>\n",
              "</table>\n",
              "</div>\n",
              "    <div class=\"colab-df-buttons\">\n",
              "\n",
              "  <div class=\"colab-df-container\">\n",
              "    <button class=\"colab-df-convert\" onclick=\"convertToInteractive('df-cb160058-5d42-4534-a5cd-249a06ad59d2')\"\n",
              "            title=\"Convert this dataframe to an interactive table.\"\n",
              "            style=\"display:none;\">\n",
              "\n",
              "  <svg xmlns=\"http://www.w3.org/2000/svg\" height=\"24px\" viewBox=\"0 -960 960 960\">\n",
              "    <path d=\"M120-120v-720h720v720H120Zm60-500h600v-160H180v160Zm220 220h160v-160H400v160Zm0 220h160v-160H400v160ZM180-400h160v-160H180v160Zm440 0h160v-160H620v160ZM180-180h160v-160H180v160Zm440 0h160v-160H620v160Z\"/>\n",
              "  </svg>\n",
              "    </button>\n",
              "\n",
              "  <style>\n",
              "    .colab-df-container {\n",
              "      display:flex;\n",
              "      gap: 12px;\n",
              "    }\n",
              "\n",
              "    .colab-df-convert {\n",
              "      background-color: #E8F0FE;\n",
              "      border: none;\n",
              "      border-radius: 50%;\n",
              "      cursor: pointer;\n",
              "      display: none;\n",
              "      fill: #1967D2;\n",
              "      height: 32px;\n",
              "      padding: 0 0 0 0;\n",
              "      width: 32px;\n",
              "    }\n",
              "\n",
              "    .colab-df-convert:hover {\n",
              "      background-color: #E2EBFA;\n",
              "      box-shadow: 0px 1px 2px rgba(60, 64, 67, 0.3), 0px 1px 3px 1px rgba(60, 64, 67, 0.15);\n",
              "      fill: #174EA6;\n",
              "    }\n",
              "\n",
              "    .colab-df-buttons div {\n",
              "      margin-bottom: 4px;\n",
              "    }\n",
              "\n",
              "    [theme=dark] .colab-df-convert {\n",
              "      background-color: #3B4455;\n",
              "      fill: #D2E3FC;\n",
              "    }\n",
              "\n",
              "    [theme=dark] .colab-df-convert:hover {\n",
              "      background-color: #434B5C;\n",
              "      box-shadow: 0px 1px 3px 1px rgba(0, 0, 0, 0.15);\n",
              "      filter: drop-shadow(0px 1px 2px rgba(0, 0, 0, 0.3));\n",
              "      fill: #FFFFFF;\n",
              "    }\n",
              "  </style>\n",
              "\n",
              "    <script>\n",
              "      const buttonEl =\n",
              "        document.querySelector('#df-cb160058-5d42-4534-a5cd-249a06ad59d2 button.colab-df-convert');\n",
              "      buttonEl.style.display =\n",
              "        google.colab.kernel.accessAllowed ? 'block' : 'none';\n",
              "\n",
              "      async function convertToInteractive(key) {\n",
              "        const element = document.querySelector('#df-cb160058-5d42-4534-a5cd-249a06ad59d2');\n",
              "        const dataTable =\n",
              "          await google.colab.kernel.invokeFunction('convertToInteractive',\n",
              "                                                    [key], {});\n",
              "        if (!dataTable) return;\n",
              "\n",
              "        const docLinkHtml = 'Like what you see? Visit the ' +\n",
              "          '<a target=\"_blank\" href=https://colab.research.google.com/notebooks/data_table.ipynb>data table notebook</a>'\n",
              "          + ' to learn more about interactive tables.';\n",
              "        element.innerHTML = '';\n",
              "        dataTable['output_type'] = 'display_data';\n",
              "        await google.colab.output.renderOutput(dataTable, element);\n",
              "        const docLink = document.createElement('div');\n",
              "        docLink.innerHTML = docLinkHtml;\n",
              "        element.appendChild(docLink);\n",
              "      }\n",
              "    </script>\n",
              "  </div>\n",
              "\n",
              "\n",
              "<div id=\"df-674ec11e-729d-4782-8e78-771d70adc4d6\">\n",
              "  <button class=\"colab-df-quickchart\" onclick=\"quickchart('df-674ec11e-729d-4782-8e78-771d70adc4d6')\"\n",
              "            title=\"Suggest charts\"\n",
              "            style=\"display:none;\">\n",
              "\n",
              "<svg xmlns=\"http://www.w3.org/2000/svg\" height=\"24px\"viewBox=\"0 0 24 24\"\n",
              "     width=\"24px\">\n",
              "    <g>\n",
              "        <path d=\"M19 3H5c-1.1 0-2 .9-2 2v14c0 1.1.9 2 2 2h14c1.1 0 2-.9 2-2V5c0-1.1-.9-2-2-2zM9 17H7v-7h2v7zm4 0h-2V7h2v10zm4 0h-2v-4h2v4z\"/>\n",
              "    </g>\n",
              "</svg>\n",
              "  </button>\n",
              "\n",
              "<style>\n",
              "  .colab-df-quickchart {\n",
              "      --bg-color: #E8F0FE;\n",
              "      --fill-color: #1967D2;\n",
              "      --hover-bg-color: #E2EBFA;\n",
              "      --hover-fill-color: #174EA6;\n",
              "      --disabled-fill-color: #AAA;\n",
              "      --disabled-bg-color: #DDD;\n",
              "  }\n",
              "\n",
              "  [theme=dark] .colab-df-quickchart {\n",
              "      --bg-color: #3B4455;\n",
              "      --fill-color: #D2E3FC;\n",
              "      --hover-bg-color: #434B5C;\n",
              "      --hover-fill-color: #FFFFFF;\n",
              "      --disabled-bg-color: #3B4455;\n",
              "      --disabled-fill-color: #666;\n",
              "  }\n",
              "\n",
              "  .colab-df-quickchart {\n",
              "    background-color: var(--bg-color);\n",
              "    border: none;\n",
              "    border-radius: 50%;\n",
              "    cursor: pointer;\n",
              "    display: none;\n",
              "    fill: var(--fill-color);\n",
              "    height: 32px;\n",
              "    padding: 0;\n",
              "    width: 32px;\n",
              "  }\n",
              "\n",
              "  .colab-df-quickchart:hover {\n",
              "    background-color: var(--hover-bg-color);\n",
              "    box-shadow: 0 1px 2px rgba(60, 64, 67, 0.3), 0 1px 3px 1px rgba(60, 64, 67, 0.15);\n",
              "    fill: var(--button-hover-fill-color);\n",
              "  }\n",
              "\n",
              "  .colab-df-quickchart-complete:disabled,\n",
              "  .colab-df-quickchart-complete:disabled:hover {\n",
              "    background-color: var(--disabled-bg-color);\n",
              "    fill: var(--disabled-fill-color);\n",
              "    box-shadow: none;\n",
              "  }\n",
              "\n",
              "  .colab-df-spinner {\n",
              "    border: 2px solid var(--fill-color);\n",
              "    border-color: transparent;\n",
              "    border-bottom-color: var(--fill-color);\n",
              "    animation:\n",
              "      spin 1s steps(1) infinite;\n",
              "  }\n",
              "\n",
              "  @keyframes spin {\n",
              "    0% {\n",
              "      border-color: transparent;\n",
              "      border-bottom-color: var(--fill-color);\n",
              "      border-left-color: var(--fill-color);\n",
              "    }\n",
              "    20% {\n",
              "      border-color: transparent;\n",
              "      border-left-color: var(--fill-color);\n",
              "      border-top-color: var(--fill-color);\n",
              "    }\n",
              "    30% {\n",
              "      border-color: transparent;\n",
              "      border-left-color: var(--fill-color);\n",
              "      border-top-color: var(--fill-color);\n",
              "      border-right-color: var(--fill-color);\n",
              "    }\n",
              "    40% {\n",
              "      border-color: transparent;\n",
              "      border-right-color: var(--fill-color);\n",
              "      border-top-color: var(--fill-color);\n",
              "    }\n",
              "    60% {\n",
              "      border-color: transparent;\n",
              "      border-right-color: var(--fill-color);\n",
              "    }\n",
              "    80% {\n",
              "      border-color: transparent;\n",
              "      border-right-color: var(--fill-color);\n",
              "      border-bottom-color: var(--fill-color);\n",
              "    }\n",
              "    90% {\n",
              "      border-color: transparent;\n",
              "      border-bottom-color: var(--fill-color);\n",
              "    }\n",
              "  }\n",
              "</style>\n",
              "\n",
              "  <script>\n",
              "    async function quickchart(key) {\n",
              "      const quickchartButtonEl =\n",
              "        document.querySelector('#' + key + ' button');\n",
              "      quickchartButtonEl.disabled = true;  // To prevent multiple clicks.\n",
              "      quickchartButtonEl.classList.add('colab-df-spinner');\n",
              "      try {\n",
              "        const charts = await google.colab.kernel.invokeFunction(\n",
              "            'suggestCharts', [key], {});\n",
              "      } catch (error) {\n",
              "        console.error('Error during call to suggestCharts:', error);\n",
              "      }\n",
              "      quickchartButtonEl.classList.remove('colab-df-spinner');\n",
              "      quickchartButtonEl.classList.add('colab-df-quickchart-complete');\n",
              "    }\n",
              "    (() => {\n",
              "      let quickchartButtonEl =\n",
              "        document.querySelector('#df-674ec11e-729d-4782-8e78-771d70adc4d6 button');\n",
              "      quickchartButtonEl.style.display =\n",
              "        google.colab.kernel.accessAllowed ? 'block' : 'none';\n",
              "    })();\n",
              "  </script>\n",
              "</div>\n",
              "\n",
              "    </div>\n",
              "  </div>\n"
            ],
            "application/vnd.google.colaboratory.intrinsic+json": {
              "type": "dataframe",
              "variable_name": "df",
              "summary": "{\n  \"name\": \"df\",\n  \"rows\": 24638,\n  \"fields\": [\n    {\n      \"column\": \"english\",\n      \"properties\": {\n        \"dtype\": \"string\",\n        \"num_unique_values\": 22834,\n        \"samples\": [\n          \"the view from fez was the first to link to the article pointing out.\",\n          \"unicef s children of syria winter crisis appeal ad in a london subway dec source global research.\",\n          \"yasmine calls for caution when reading and analyzing the official number of internet subscribers as claimed by the government one should consider the figures of the iut telecom international union she says according to them only percent of algerians are using internet in.\"\n        ],\n        \"semantic_type\": \"\",\n        \"description\": \"\"\n      }\n    },\n    {\n      \"column\": \"arabic\",\n      \"properties\": {\n        \"dtype\": \"string\",\n        \"num_unique_values\": 24031,\n        \"samples\": [\n          \"\\u0648\\u0644\\u0643\\u0646 \\u0647\\u0646\\u0627\\u0643 \\u0645\\u0646 \\u0647\\u0648 \\u0645\\u0635\\u0645\\u0645 \\u0639\\u0644\\u0649 \\u062a\\u063a\\u064a\\u064a\\u0631 \\u0645\\u0635\\u064a\\u0631 \\u0647\\u0630\\u0647 \\u0627\\u0644\\u0644\\u063a\\u0629 \\u0627\\u0644\\u0645\\u0648\\u0627\\u0637\\u0646 \\u0627\\u0644\\u0627\\u0632\\u0631\\u0628\\u064a\\u062c\\u0627\\u0646\\u0649 \\u062c\\u064a\\u0647\\u0648\\u0646 \\u0627\\u0645\\u064a\\u0631\\u062e\\u0627\\u0646\\u0648\\u0641 \\u0644\\u063a\\u062a\\u0647 \\u0627\\u0644\\u0627\\u0645 \\u0627\\u0644\\u0644\\u0632\\u062c\\u064a\\u0646\\u064a\\u0629 \\u064a\\u0633\\u062a\\u062e\\u062f\\u0645 \\u064a\\u0648\\u062a\\u064a\\u0648\\u0628 \\u0648\\u062a\\u0648\\u064a\\u062a\\u0631 \\u0648\\u0641\\u064a\\u0633\\u0628\\u0648\\u0643 \\u0644\\u0644\\u062a\\u0631\\u0648\\u064a\\u062c \\u0644\\u0627\\u0642\\u0644\\u064a\\u0645\\u0647 \\u0648\\u062b\\u0642\\u0627\\u0641\\u062a\\u0647 \\u0648\\u0644\\u063a\\u062a\\u0647 \\u0634\\u0631\\u062d \\u0644\\u0644\\u0627\\u0635\\u0648\\u0627\\u062a \\u0627\\u0644\\u0635\\u0627\\u0639\\u062f\\u0629 \\u0627\\u0633\\u0628\\u0627\\u0628 \\u0646\\u0634\\u0627\\u0637\\u0647 \\u0639\\u0644\\u0649 \\u0627\\u0644\\u0627\\u0646\\u062a\\u0631\\u0646\\u062a\",\n          \"\\u0639\\u0644\\u064a\\u0643 \\u0623\\u0646 \\u062a\\u062f\\u0641\\u0639 \\u0645\\u0627 \\u0639\\u0644\\u064a\\u0643 \\u0645\\u0646 \\u062f\\u064a\\u0646.\",\n          \"\\u0644\\u0645 \\u0627\\u0628\\u0643\\u064a \\u0628\\u0633\\u0628\\u0628 \\u0641\\u0643\\u0631\\u0629 \\u0627\\u0644\\u0627\\u062d\\u062a\\u0644\\u0627\\u0644 \\u0648\\u0644\\u0645 \\u0627\\u0628\\u0643\\u064a \\u0628\\u0633\\u0628\\u0628 \\u0645\\u0627\\u0642\\u0627\\u0644\\u0647 \\u0627\\u0644\\u0645\\u062f\\u0631\\u0633 \\u0639\\u0646 \\u0627\\u062d\\u062a\\u0644\\u0627\\u0644 \\u0627\\u0644\\u062a\\u0631\\u0627\\u0628 \\u0627\\u0644\\u0644\\u0628\\u0646\\u0627\\u0646\\u064a \\u0628\\u0627\\u0643\\u0645\\u0644\\u0647 \\u0648\\u0627\\u0646\\u0647 \\u0643\\u0627\\u0646 \\u0645\\u062e\\u0637\\u064a \\u0628\\u0643\\u064a\\u062a \\u0628\\u0633\\u0628\\u0628 \\u0634\\u0639\\u0648\\u0631\\u064a \\u0648\\u0644\\u0627\\u0648\\u0644 \\u0645\\u0631\\u0629 \\u0628\\u0627\\u0646\\u064a \\u063a\\u0631\\u064a\\u0628\\u0629 \\u0627\\u0642\\u0644\\u064a\\u0629 \\u0627\\u0648 \\u062f\\u062e\\u064a\\u0644\\u0629\"\n        ],\n        \"semantic_type\": \"\",\n        \"description\": \"\"\n      }\n    }\n  ]\n}"
            }
          },
          "metadata": {},
          "execution_count": 3
        }
      ],
      "source": [
        "df.head()"
      ]
    },
    {
      "cell_type": "code",
      "execution_count": 4,
      "metadata": {
        "colab": {
          "base_uri": "https://localhost:8080/"
        },
        "id": "J1EXMf8gmfa3",
        "outputId": "7940140f-5546-47c3-fb6d-84d12482e039"
      },
      "outputs": [
        {
          "output_type": "stream",
          "name": "stdout",
          "text": [
            "<class 'pandas.core.frame.DataFrame'>\n",
            "RangeIndex: 24638 entries, 0 to 24637\n",
            "Data columns (total 2 columns):\n",
            " #   Column   Non-Null Count  Dtype \n",
            "---  ------   --------------  ----- \n",
            " 0   english  24638 non-null  object\n",
            " 1   arabic   24638 non-null  object\n",
            "dtypes: object(2)\n",
            "memory usage: 385.1+ KB\n"
          ]
        }
      ],
      "source": [
        "df.info()"
      ]
    },
    {
      "cell_type": "code",
      "execution_count": 5,
      "metadata": {
        "id": "ueek_q8qmfdT",
        "colab": {
          "base_uri": "https://localhost:8080/"
        },
        "outputId": "254707c4-59b9-4670-fdcf-92538376ad64"
      },
      "outputs": [
        {
          "output_type": "execute_result",
          "data": {
            "text/plain": [
              "(24638, 2)"
            ]
          },
          "metadata": {},
          "execution_count": 5
        }
      ],
      "source": [
        "df.shape"
      ]
    },
    {
      "cell_type": "code",
      "execution_count": 6,
      "metadata": {
        "id": "M1enAZxemff4",
        "colab": {
          "base_uri": "https://localhost:8080/",
          "height": 206
        },
        "outputId": "2fa6ebbd-ce9d-4551-b668-bf66c81fa4a0"
      },
      "outputs": [
        {
          "output_type": "execute_result",
          "data": {
            "text/plain": [
              "                                               english  \\\n",
              "5234                        I walked from the station.   \n",
              "15628  uganda soldiers for peace or oil global voices.   \n",
              "7916                 School begins at half past eight.   \n",
              "1187                                  I'm left-handed.   \n",
              "3246                             The house is burning.   \n",
              "\n",
              "                                                arabic  english_length  \\\n",
              "5234                                   مشيت من المحطة.               5   \n",
              "15628  اوغندا جنود السلام ام البترول؟ الاصوات العالمية               8   \n",
              "7916              تبدأ المدرسة الساعة الثامنة و النصف.               6   \n",
              "1187                                         أنا أيسر.               2   \n",
              "3246                                     المنزل يحترق.               4   \n",
              "\n",
              "       arabic_length  \n",
              "5234               3  \n",
              "15628              7  \n",
              "7916               6  \n",
              "1187               2  \n",
              "3246               2  "
            ],
            "text/html": [
              "\n",
              "  <div id=\"df-9a123f47-5f52-4e92-913f-ae66f107d222\" class=\"colab-df-container\">\n",
              "    <div>\n",
              "<style scoped>\n",
              "    .dataframe tbody tr th:only-of-type {\n",
              "        vertical-align: middle;\n",
              "    }\n",
              "\n",
              "    .dataframe tbody tr th {\n",
              "        vertical-align: top;\n",
              "    }\n",
              "\n",
              "    .dataframe thead th {\n",
              "        text-align: right;\n",
              "    }\n",
              "</style>\n",
              "<table border=\"1\" class=\"dataframe\">\n",
              "  <thead>\n",
              "    <tr style=\"text-align: right;\">\n",
              "      <th></th>\n",
              "      <th>english</th>\n",
              "      <th>arabic</th>\n",
              "      <th>english_length</th>\n",
              "      <th>arabic_length</th>\n",
              "    </tr>\n",
              "  </thead>\n",
              "  <tbody>\n",
              "    <tr>\n",
              "      <th>5234</th>\n",
              "      <td>I walked from the station.</td>\n",
              "      <td>مشيت من المحطة.</td>\n",
              "      <td>5</td>\n",
              "      <td>3</td>\n",
              "    </tr>\n",
              "    <tr>\n",
              "      <th>15628</th>\n",
              "      <td>uganda soldiers for peace or oil global voices.</td>\n",
              "      <td>اوغندا جنود السلام ام البترول؟ الاصوات العالمية</td>\n",
              "      <td>8</td>\n",
              "      <td>7</td>\n",
              "    </tr>\n",
              "    <tr>\n",
              "      <th>7916</th>\n",
              "      <td>School begins at half past eight.</td>\n",
              "      <td>تبدأ المدرسة الساعة الثامنة و النصف.</td>\n",
              "      <td>6</td>\n",
              "      <td>6</td>\n",
              "    </tr>\n",
              "    <tr>\n",
              "      <th>1187</th>\n",
              "      <td>I'm left-handed.</td>\n",
              "      <td>أنا أيسر.</td>\n",
              "      <td>2</td>\n",
              "      <td>2</td>\n",
              "    </tr>\n",
              "    <tr>\n",
              "      <th>3246</th>\n",
              "      <td>The house is burning.</td>\n",
              "      <td>المنزل يحترق.</td>\n",
              "      <td>4</td>\n",
              "      <td>2</td>\n",
              "    </tr>\n",
              "  </tbody>\n",
              "</table>\n",
              "</div>\n",
              "    <div class=\"colab-df-buttons\">\n",
              "\n",
              "  <div class=\"colab-df-container\">\n",
              "    <button class=\"colab-df-convert\" onclick=\"convertToInteractive('df-9a123f47-5f52-4e92-913f-ae66f107d222')\"\n",
              "            title=\"Convert this dataframe to an interactive table.\"\n",
              "            style=\"display:none;\">\n",
              "\n",
              "  <svg xmlns=\"http://www.w3.org/2000/svg\" height=\"24px\" viewBox=\"0 -960 960 960\">\n",
              "    <path d=\"M120-120v-720h720v720H120Zm60-500h600v-160H180v160Zm220 220h160v-160H400v160Zm0 220h160v-160H400v160ZM180-400h160v-160H180v160Zm440 0h160v-160H620v160ZM180-180h160v-160H180v160Zm440 0h160v-160H620v160Z\"/>\n",
              "  </svg>\n",
              "    </button>\n",
              "\n",
              "  <style>\n",
              "    .colab-df-container {\n",
              "      display:flex;\n",
              "      gap: 12px;\n",
              "    }\n",
              "\n",
              "    .colab-df-convert {\n",
              "      background-color: #E8F0FE;\n",
              "      border: none;\n",
              "      border-radius: 50%;\n",
              "      cursor: pointer;\n",
              "      display: none;\n",
              "      fill: #1967D2;\n",
              "      height: 32px;\n",
              "      padding: 0 0 0 0;\n",
              "      width: 32px;\n",
              "    }\n",
              "\n",
              "    .colab-df-convert:hover {\n",
              "      background-color: #E2EBFA;\n",
              "      box-shadow: 0px 1px 2px rgba(60, 64, 67, 0.3), 0px 1px 3px 1px rgba(60, 64, 67, 0.15);\n",
              "      fill: #174EA6;\n",
              "    }\n",
              "\n",
              "    .colab-df-buttons div {\n",
              "      margin-bottom: 4px;\n",
              "    }\n",
              "\n",
              "    [theme=dark] .colab-df-convert {\n",
              "      background-color: #3B4455;\n",
              "      fill: #D2E3FC;\n",
              "    }\n",
              "\n",
              "    [theme=dark] .colab-df-convert:hover {\n",
              "      background-color: #434B5C;\n",
              "      box-shadow: 0px 1px 3px 1px rgba(0, 0, 0, 0.15);\n",
              "      filter: drop-shadow(0px 1px 2px rgba(0, 0, 0, 0.3));\n",
              "      fill: #FFFFFF;\n",
              "    }\n",
              "  </style>\n",
              "\n",
              "    <script>\n",
              "      const buttonEl =\n",
              "        document.querySelector('#df-9a123f47-5f52-4e92-913f-ae66f107d222 button.colab-df-convert');\n",
              "      buttonEl.style.display =\n",
              "        google.colab.kernel.accessAllowed ? 'block' : 'none';\n",
              "\n",
              "      async function convertToInteractive(key) {\n",
              "        const element = document.querySelector('#df-9a123f47-5f52-4e92-913f-ae66f107d222');\n",
              "        const dataTable =\n",
              "          await google.colab.kernel.invokeFunction('convertToInteractive',\n",
              "                                                    [key], {});\n",
              "        if (!dataTable) return;\n",
              "\n",
              "        const docLinkHtml = 'Like what you see? Visit the ' +\n",
              "          '<a target=\"_blank\" href=https://colab.research.google.com/notebooks/data_table.ipynb>data table notebook</a>'\n",
              "          + ' to learn more about interactive tables.';\n",
              "        element.innerHTML = '';\n",
              "        dataTable['output_type'] = 'display_data';\n",
              "        await google.colab.output.renderOutput(dataTable, element);\n",
              "        const docLink = document.createElement('div');\n",
              "        docLink.innerHTML = docLinkHtml;\n",
              "        element.appendChild(docLink);\n",
              "      }\n",
              "    </script>\n",
              "  </div>\n",
              "\n",
              "\n",
              "<div id=\"df-2eef398b-e45b-478f-b423-e6a081ce29ce\">\n",
              "  <button class=\"colab-df-quickchart\" onclick=\"quickchart('df-2eef398b-e45b-478f-b423-e6a081ce29ce')\"\n",
              "            title=\"Suggest charts\"\n",
              "            style=\"display:none;\">\n",
              "\n",
              "<svg xmlns=\"http://www.w3.org/2000/svg\" height=\"24px\"viewBox=\"0 0 24 24\"\n",
              "     width=\"24px\">\n",
              "    <g>\n",
              "        <path d=\"M19 3H5c-1.1 0-2 .9-2 2v14c0 1.1.9 2 2 2h14c1.1 0 2-.9 2-2V5c0-1.1-.9-2-2-2zM9 17H7v-7h2v7zm4 0h-2V7h2v10zm4 0h-2v-4h2v4z\"/>\n",
              "    </g>\n",
              "</svg>\n",
              "  </button>\n",
              "\n",
              "<style>\n",
              "  .colab-df-quickchart {\n",
              "      --bg-color: #E8F0FE;\n",
              "      --fill-color: #1967D2;\n",
              "      --hover-bg-color: #E2EBFA;\n",
              "      --hover-fill-color: #174EA6;\n",
              "      --disabled-fill-color: #AAA;\n",
              "      --disabled-bg-color: #DDD;\n",
              "  }\n",
              "\n",
              "  [theme=dark] .colab-df-quickchart {\n",
              "      --bg-color: #3B4455;\n",
              "      --fill-color: #D2E3FC;\n",
              "      --hover-bg-color: #434B5C;\n",
              "      --hover-fill-color: #FFFFFF;\n",
              "      --disabled-bg-color: #3B4455;\n",
              "      --disabled-fill-color: #666;\n",
              "  }\n",
              "\n",
              "  .colab-df-quickchart {\n",
              "    background-color: var(--bg-color);\n",
              "    border: none;\n",
              "    border-radius: 50%;\n",
              "    cursor: pointer;\n",
              "    display: none;\n",
              "    fill: var(--fill-color);\n",
              "    height: 32px;\n",
              "    padding: 0;\n",
              "    width: 32px;\n",
              "  }\n",
              "\n",
              "  .colab-df-quickchart:hover {\n",
              "    background-color: var(--hover-bg-color);\n",
              "    box-shadow: 0 1px 2px rgba(60, 64, 67, 0.3), 0 1px 3px 1px rgba(60, 64, 67, 0.15);\n",
              "    fill: var(--button-hover-fill-color);\n",
              "  }\n",
              "\n",
              "  .colab-df-quickchart-complete:disabled,\n",
              "  .colab-df-quickchart-complete:disabled:hover {\n",
              "    background-color: var(--disabled-bg-color);\n",
              "    fill: var(--disabled-fill-color);\n",
              "    box-shadow: none;\n",
              "  }\n",
              "\n",
              "  .colab-df-spinner {\n",
              "    border: 2px solid var(--fill-color);\n",
              "    border-color: transparent;\n",
              "    border-bottom-color: var(--fill-color);\n",
              "    animation:\n",
              "      spin 1s steps(1) infinite;\n",
              "  }\n",
              "\n",
              "  @keyframes spin {\n",
              "    0% {\n",
              "      border-color: transparent;\n",
              "      border-bottom-color: var(--fill-color);\n",
              "      border-left-color: var(--fill-color);\n",
              "    }\n",
              "    20% {\n",
              "      border-color: transparent;\n",
              "      border-left-color: var(--fill-color);\n",
              "      border-top-color: var(--fill-color);\n",
              "    }\n",
              "    30% {\n",
              "      border-color: transparent;\n",
              "      border-left-color: var(--fill-color);\n",
              "      border-top-color: var(--fill-color);\n",
              "      border-right-color: var(--fill-color);\n",
              "    }\n",
              "    40% {\n",
              "      border-color: transparent;\n",
              "      border-right-color: var(--fill-color);\n",
              "      border-top-color: var(--fill-color);\n",
              "    }\n",
              "    60% {\n",
              "      border-color: transparent;\n",
              "      border-right-color: var(--fill-color);\n",
              "    }\n",
              "    80% {\n",
              "      border-color: transparent;\n",
              "      border-right-color: var(--fill-color);\n",
              "      border-bottom-color: var(--fill-color);\n",
              "    }\n",
              "    90% {\n",
              "      border-color: transparent;\n",
              "      border-bottom-color: var(--fill-color);\n",
              "    }\n",
              "  }\n",
              "</style>\n",
              "\n",
              "  <script>\n",
              "    async function quickchart(key) {\n",
              "      const quickchartButtonEl =\n",
              "        document.querySelector('#' + key + ' button');\n",
              "      quickchartButtonEl.disabled = true;  // To prevent multiple clicks.\n",
              "      quickchartButtonEl.classList.add('colab-df-spinner');\n",
              "      try {\n",
              "        const charts = await google.colab.kernel.invokeFunction(\n",
              "            'suggestCharts', [key], {});\n",
              "      } catch (error) {\n",
              "        console.error('Error during call to suggestCharts:', error);\n",
              "      }\n",
              "      quickchartButtonEl.classList.remove('colab-df-spinner');\n",
              "      quickchartButtonEl.classList.add('colab-df-quickchart-complete');\n",
              "    }\n",
              "    (() => {\n",
              "      let quickchartButtonEl =\n",
              "        document.querySelector('#df-2eef398b-e45b-478f-b423-e6a081ce29ce button');\n",
              "      quickchartButtonEl.style.display =\n",
              "        google.colab.kernel.accessAllowed ? 'block' : 'none';\n",
              "    })();\n",
              "  </script>\n",
              "</div>\n",
              "\n",
              "    </div>\n",
              "  </div>\n"
            ],
            "application/vnd.google.colaboratory.intrinsic+json": {
              "type": "dataframe",
              "summary": "{\n  \"name\": \"df\",\n  \"rows\": 5,\n  \"fields\": [\n    {\n      \"column\": \"english\",\n      \"properties\": {\n        \"dtype\": \"string\",\n        \"num_unique_values\": 5,\n        \"samples\": [\n          \"uganda soldiers for peace or oil global voices.\",\n          \"The house is burning.\",\n          \"School begins at half past eight.\"\n        ],\n        \"semantic_type\": \"\",\n        \"description\": \"\"\n      }\n    },\n    {\n      \"column\": \"arabic\",\n      \"properties\": {\n        \"dtype\": \"string\",\n        \"num_unique_values\": 5,\n        \"samples\": [\n          \"\\u0627\\u0648\\u063a\\u0646\\u062f\\u0627 \\u062c\\u0646\\u0648\\u062f \\u0627\\u0644\\u0633\\u0644\\u0627\\u0645 \\u0627\\u0645 \\u0627\\u0644\\u0628\\u062a\\u0631\\u0648\\u0644\\u061f \\u0627\\u0644\\u0627\\u0635\\u0648\\u0627\\u062a \\u0627\\u0644\\u0639\\u0627\\u0644\\u0645\\u064a\\u0629\",\n          \"\\u0627\\u0644\\u0645\\u0646\\u0632\\u0644 \\u064a\\u062d\\u062a\\u0631\\u0642.\",\n          \"\\u062a\\u0628\\u062f\\u0623 \\u0627\\u0644\\u0645\\u062f\\u0631\\u0633\\u0629 \\u0627\\u0644\\u0633\\u0627\\u0639\\u0629 \\u0627\\u0644\\u062b\\u0627\\u0645\\u0646\\u0629 \\u0648 \\u0627\\u0644\\u0646\\u0635\\u0641.\"\n        ],\n        \"semantic_type\": \"\",\n        \"description\": \"\"\n      }\n    },\n    {\n      \"column\": \"english_length\",\n      \"properties\": {\n        \"dtype\": \"number\",\n        \"std\": 2,\n        \"min\": 2,\n        \"max\": 8,\n        \"num_unique_values\": 5,\n        \"samples\": [\n          8,\n          4,\n          6\n        ],\n        \"semantic_type\": \"\",\n        \"description\": \"\"\n      }\n    },\n    {\n      \"column\": \"arabic_length\",\n      \"properties\": {\n        \"dtype\": \"number\",\n        \"std\": 2,\n        \"min\": 2,\n        \"max\": 7,\n        \"num_unique_values\": 4,\n        \"samples\": [\n          7,\n          2,\n          3\n        ],\n        \"semantic_type\": \"\",\n        \"description\": \"\"\n      }\n    }\n  ]\n}"
            }
          },
          "metadata": {},
          "execution_count": 6
        }
      ],
      "source": [
        "# we get number of words in sentences to show some visuals\n",
        "df[\"english_length\"]=df[\"english\"].apply(lambda x:len(x.split(\" \")))\n",
        "\n",
        "df[\"arabic_length\"]=df[\"arabic\"].apply(lambda x:len(x.split(\" \")))\n",
        "df.sample(5)\n"
      ]
    },
    {
      "cell_type": "markdown",
      "source": [
        "**Data preprocessing**"
      ],
      "metadata": {
        "id": "Clvp7p4Z6969"
      }
    },
    {
      "cell_type": "code",
      "execution_count": 7,
      "metadata": {
        "id": "jK3z2JCYocov"
      },
      "outputs": [],
      "source": [
        "# english tokenizer | input tokenizer\n",
        "english_tokenizer=Tokenizer()\n",
        "english_tokenizer.fit_on_texts(df[\"english\"])"
      ]
    },
    {
      "cell_type": "code",
      "execution_count": 8,
      "metadata": {
        "id": "ctSBSJUeocrv",
        "colab": {
          "base_uri": "https://localhost:8080/"
        },
        "outputId": "cf3b8637-671a-47a0-e9fb-d2308a73e29e"
      },
      "outputs": [
        {
          "output_type": "execute_result",
          "data": {
            "text/plain": [
              "26062"
            ]
          },
          "metadata": {},
          "execution_count": 8
        }
      ],
      "source": [
        "vocab_size_english=len(english_tokenizer.word_index)\n",
        "vocab_size_english"
      ]
    },
    {
      "cell_type": "code",
      "execution_count": 9,
      "metadata": {
        "id": "UsXXEkQJocuq"
      },
      "outputs": [],
      "source": [
        "english_word_2_idx=english_tokenizer.word_index\n",
        "english_idx_2_word={idx:word for word,idx in english_word_2_idx.items()}\n",
        "#print(english_idx_2_word)"
      ]
    },
    {
      "cell_type": "code",
      "execution_count": 10,
      "metadata": {
        "id": "gj0jMdrZpUjo"
      },
      "outputs": [],
      "source": [
        "# arabic tokenizer | output tokenizer\n",
        "arabic_tokenizer=Tokenizer()\n",
        "arabic_tokenizer.fit_on_texts(df[\"arabic\"])"
      ]
    },
    {
      "cell_type": "code",
      "execution_count": 11,
      "metadata": {
        "id": "FCOVh9G9pUmW",
        "colab": {
          "base_uri": "https://localhost:8080/"
        },
        "outputId": "f241742c-296f-4845-bed4-f83cfbb974db"
      },
      "outputs": [
        {
          "output_type": "execute_result",
          "data": {
            "text/plain": [
              "57847"
            ]
          },
          "metadata": {},
          "execution_count": 11
        }
      ],
      "source": [
        "vocab_size_arabic=len(arabic_tokenizer.word_index)+1\n",
        "vocab_size_arabic"
      ]
    },
    {
      "cell_type": "code",
      "execution_count": 12,
      "metadata": {
        "id": "ux4gK9KxpUo_"
      },
      "outputs": [],
      "source": [
        "arabic_word_2_idx=arabic_tokenizer.word_index\n",
        "arabic_idx_2_word={idx:word for word,idx in arabic_word_2_idx.items()}\n",
        "#print(arabic_word_2_idx)"
      ]
    },
    {
      "cell_type": "code",
      "execution_count": 13,
      "metadata": {
        "id": "j2Fy5D-Jocxu",
        "colab": {
          "base_uri": "https://localhost:8080/"
        },
        "outputId": "1759847c-a4a7-46e2-8dec-0c47ef7e62e6"
      },
      "outputs": [
        {
          "output_type": "execute_result",
          "data": {
            "text/plain": [
              "[3795]"
            ]
          },
          "metadata": {},
          "execution_count": 13
        }
      ],
      "source": [
        "token_eng=english_tokenizer.texts_to_sequences(df[\"english\"])\n",
        "token_ara=arabic_tokenizer.texts_to_sequences(df[\"arabic\"])\n",
        "token_eng[0]"
      ]
    },
    {
      "cell_type": "code",
      "execution_count": 14,
      "metadata": {
        "id": "n-tTUWACpszF",
        "colab": {
          "base_uri": "https://localhost:8080/"
        },
        "outputId": "04266a5e-4bfa-4b99-a259-b96bd296dd9b"
      },
      "outputs": [
        {
          "output_type": "execute_result",
          "data": {
            "text/plain": [
              "[41, 12, 654]"
            ]
          },
          "metadata": {},
          "execution_count": 14
        }
      ],
      "source": [
        "token_eng[598]"
      ]
    },
    {
      "cell_type": "code",
      "execution_count": 15,
      "metadata": {
        "id": "_fak5gqPrwOm"
      },
      "outputs": [],
      "source": [
        "padded_eng=pad_sequences(token_eng,maxlen=50,padding=\"post\")\n",
        "padded_ara=pad_sequences(token_ara,maxlen=50,padding=\"post\")"
      ]
    },
    {
      "cell_type": "code",
      "execution_count": 16,
      "metadata": {
        "id": "tbXL4WQZrwRV",
        "colab": {
          "base_uri": "https://localhost:8080/"
        },
        "outputId": "87a5c968-2419-49f4-a5da-e0b2169af0c7"
      },
      "outputs": [
        {
          "output_type": "execute_result",
          "data": {
            "text/plain": [
              "(24638, 50)"
            ]
          },
          "metadata": {},
          "execution_count": 16
        }
      ],
      "source": [
        "padded_eng.shape"
      ]
    },
    {
      "cell_type": "code",
      "execution_count": 17,
      "metadata": {
        "id": "t8IMwsXkrwTs",
        "colab": {
          "base_uri": "https://localhost:8080/"
        },
        "outputId": "be21a7f4-39e0-4edf-b39d-e77446e3fc2e"
      },
      "outputs": [
        {
          "output_type": "execute_result",
          "data": {
            "text/plain": [
              "(24638, 50)"
            ]
          },
          "metadata": {},
          "execution_count": 17
        }
      ],
      "source": [
        "padded_ara.shape"
      ]
    },
    {
      "cell_type": "code",
      "execution_count": 18,
      "metadata": {
        "id": "rGKK_Lf6rwV3",
        "colab": {
          "base_uri": "https://localhost:8080/"
        },
        "outputId": "a6ba6533-e2bd-4ee2-83d7-277c467546f7"
      },
      "outputs": [
        {
          "output_type": "execute_result",
          "data": {
            "text/plain": [
              "array([3795,    0,    0,    0,    0,    0,    0,    0,    0,    0,    0,\n",
              "          0,    0,    0,    0,    0,    0,    0,    0,    0,    0,    0,\n",
              "          0,    0,    0,    0,    0,    0,    0,    0,    0,    0,    0,\n",
              "          0,    0,    0,    0,    0,    0,    0,    0,    0,    0,    0,\n",
              "          0,    0,    0,    0,    0,    0], dtype=int32)"
            ]
          },
          "metadata": {},
          "execution_count": 18
        }
      ],
      "source": [
        "padded_eng[0]"
      ]
    },
    {
      "cell_type": "code",
      "execution_count": 18,
      "metadata": {
        "id": "owj5tJXlr89J"
      },
      "outputs": [],
      "source": []
    },
    {
      "cell_type": "markdown",
      "metadata": {
        "id": "Uc1YEiR3ynTe"
      },
      "source": [
        "**Model Building**"
      ]
    },
    {
      "cell_type": "code",
      "execution_count": 19,
      "metadata": {
        "id": "D-wh_EDwzu7V",
        "colab": {
          "base_uri": "https://localhost:8080/",
          "height": 54
        },
        "outputId": "3c97bc27-ecfd-44d5-87ba-1e1a493828e8"
      },
      "outputs": [
        {
          "output_type": "execute_result",
          "data": {
            "text/plain": [
              "\"Applies a fully connected layer independently to each time step in the sequence.\\nProduces probabilities for each word in the 'Arabic' vocabulary for each input word.\\nUses softmax activation to ensure probabilities add up to 1.\""
            ],
            "application/vnd.google.colaboratory.intrinsic+json": {
              "type": "string"
            }
          },
          "metadata": {},
          "execution_count": 19
        }
      ],
      "source": [
        "model=Sequential()\n",
        "model.add(Embedding(vocab_size_english,100,input_length=50))    #Maps each word to a 100-dimensional vector, input sequences 50 words.\n",
        "model.add(tf.keras.layers.Bidirectional(LSTM(units=256)))\n",
        "model.add(tf.keras.layers.RepeatVector(50))   #Replicates the final output of the Bidirectional LSTM 50 times.\n",
        "model.add(LSTM(256,return_sequences=True))   #256 units\n",
        "model.add(TimeDistributed(Dense(vocab_size_arabic,activation=\"softmax\")))\n",
        "\n",
        "\"\"\"Applies a fully connected layer independently to each time step in the sequence.\n",
        "Produces probabilities for each word in the 'Arabic' vocabulary for each input word.\n",
        "Uses softmax activation to ensure probabilities add up to 1.\"\"\""
      ]
    },
    {
      "cell_type": "code",
      "execution_count": 19,
      "metadata": {
        "id": "rrCJ2zAgr8VF"
      },
      "outputs": [],
      "source": []
    },
    {
      "cell_type": "code",
      "execution_count": 20,
      "metadata": {
        "id": "i55jwI9WvvVf",
        "colab": {
          "base_uri": "https://localhost:8080/"
        },
        "outputId": "de7b3671-b119-4599-c4a5-e6a25c0f59dd"
      },
      "outputs": [
        {
          "output_type": "stream",
          "name": "stdout",
          "text": [
            "Model: \"sequential\"\n",
            "_________________________________________________________________\n",
            " Layer (type)                Output Shape              Param #   \n",
            "=================================================================\n",
            " embedding (Embedding)       (None, 50, 100)           2606200   \n",
            "                                                                 \n",
            " bidirectional (Bidirection  (None, 512)               731136    \n",
            " al)                                                             \n",
            "                                                                 \n",
            " repeat_vector (RepeatVecto  (None, 50, 512)           0         \n",
            " r)                                                              \n",
            "                                                                 \n",
            " lstm_1 (LSTM)               (None, 50, 256)           787456    \n",
            "                                                                 \n",
            " time_distributed (TimeDist  (None, 50, 57847)         14866679  \n",
            " ributed)                                                        \n",
            "                                                                 \n",
            "=================================================================\n",
            "Total params: 18991471 (72.45 MB)\n",
            "Trainable params: 18991471 (72.45 MB)\n",
            "Non-trainable params: 0 (0.00 Byte)\n",
            "_________________________________________________________________\n"
          ]
        }
      ],
      "source": [
        "model.summary()"
      ]
    },
    {
      "cell_type": "code",
      "execution_count": 21,
      "metadata": {
        "id": "sJzVIBDXv0oo"
      },
      "outputs": [],
      "source": [
        "opt=tf.keras.optimizers.RMSprop()\n",
        "model.compile(loss=\"sparse_categorical_crossentropy\", optimizer=opt, metrics=[\"accuracy\"])\n",
        "#if you will make a one hot encoding for the data we will use binary cross entropy insted of this loss function"
      ]
    },
    {
      "cell_type": "markdown",
      "metadata": {
        "id": "RdnPlIjIy8Xr"
      },
      "source": [
        "**Splitting the dataset**"
      ]
    },
    {
      "cell_type": "code",
      "execution_count": 22,
      "metadata": {
        "id": "UuyFjWoUv0tQ"
      },
      "outputs": [],
      "source": [
        "x_train,x_test,y_train,y_test=train_test_split(padded_eng,padded_ara,test_size=0.2,random_state=42)"
      ]
    },
    {
      "cell_type": "code",
      "execution_count": 24,
      "metadata": {
        "id": "8olKozvdwCOB",
        "colab": {
          "base_uri": "https://localhost:8080/"
        },
        "outputId": "b695666a-0658-4625-9b6f-90968e0f2bc8"
      },
      "outputs": [
        {
          "output_type": "execute_result",
          "data": {
            "text/plain": [
              "((18478, 50), (6160, 50))"
            ]
          },
          "metadata": {},
          "execution_count": 24
        }
      ],
      "source": [
        "x_train.shape,x_test.shape"
      ]
    },
    {
      "cell_type": "code",
      "execution_count": 25,
      "metadata": {
        "id": "jPkX9rcZwGs-",
        "colab": {
          "base_uri": "https://localhost:8080/"
        },
        "outputId": "31494b01-1de7-4f60-b66e-5c8ac6589ca2"
      },
      "outputs": [
        {
          "output_type": "execute_result",
          "data": {
            "text/plain": [
              "((18478, 50), (6160, 50))"
            ]
          },
          "metadata": {},
          "execution_count": 25
        }
      ],
      "source": [
        "y_train.shape,y_test.shape"
      ]
    },
    {
      "cell_type": "code",
      "source": [
        "x_train[0]"
      ],
      "metadata": {
        "colab": {
          "base_uri": "https://localhost:8080/"
        },
        "id": "-k7PIfEM3ePL",
        "outputId": "905ba8e0-c857-483f-99a2-1ca9cf4bc15b"
      },
      "execution_count": 34,
      "outputs": [
        {
          "output_type": "execute_result",
          "data": {
            "text/plain": [
              "array([  75,  914,   39, 1533,    9, 1083,   29, 1911,    0,    0,    0,\n",
              "          0,    0,    0,    0,    0,    0,    0,    0,    0,    0,    0,\n",
              "          0,    0,    0,    0,    0,    0,    0,    0,    0,    0,    0,\n",
              "          0,    0,    0,    0,    0,    0,    0,    0,    0,    0,    0,\n",
              "          0,    0,    0,    0,    0,    0], dtype=int32)"
            ]
          },
          "metadata": {},
          "execution_count": 34
        }
      ]
    },
    {
      "cell_type": "code",
      "source": [
        "x_test[0]"
      ],
      "metadata": {
        "colab": {
          "base_uri": "https://localhost:8080/"
        },
        "id": "WuxUfaom3eR0",
        "outputId": "5e301893-0205-477b-9ac9-689ef85b18d9"
      },
      "execution_count": 35,
      "outputs": [
        {
          "output_type": "execute_result",
          "data": {
            "text/plain": [
              "array([ 565,    1,  162,   50,  404,    6, 3839,    0,    0,    0,    0,\n",
              "          0,    0,    0,    0,    0,    0,    0,    0,    0,    0,    0,\n",
              "          0,    0,    0,    0,    0,    0,    0,    0,    0,    0,    0,\n",
              "          0,    0,    0,    0,    0,    0,    0,    0,    0,    0,    0,\n",
              "          0,    0,    0,    0,    0,    0], dtype=int32)"
            ]
          },
          "metadata": {},
          "execution_count": 35
        }
      ]
    },
    {
      "cell_type": "markdown",
      "metadata": {
        "id": "R0Z4Ab2-yuTo"
      },
      "source": [
        "**Model Training**"
      ]
    },
    {
      "cell_type": "code",
      "execution_count": 26,
      "metadata": {
        "id": "fkoivZ7TwLXH",
        "colab": {
          "base_uri": "https://localhost:8080/"
        },
        "outputId": "9fc0c5bc-9c8d-4ded-de4e-8c3f4c6c4b36"
      },
      "outputs": [
        {
          "output_type": "stream",
          "name": "stdout",
          "text": [
            "Epoch 1/10\n",
            "58/58 [==============================] - 80s 1s/step - loss: 4.5705 - accuracy: 0.7074 - val_loss: 3.1538 - val_accuracy: 0.7115\n",
            "Epoch 2/10\n",
            "58/58 [==============================] - 70s 1s/step - loss: 3.0283 - accuracy: 0.7199 - val_loss: 3.0838 - val_accuracy: 0.7115\n",
            "Epoch 3/10\n",
            "58/58 [==============================] - 70s 1s/step - loss: 2.9833 - accuracy: 0.7199 - val_loss: 3.0674 - val_accuracy: 0.7115\n",
            "Epoch 4/10\n",
            "58/58 [==============================] - 73s 1s/step - loss: 2.9600 - accuracy: 0.7199 - val_loss: 3.0786 - val_accuracy: 0.7115\n",
            "Epoch 5/10\n",
            "58/58 [==============================] - 73s 1s/step - loss: 2.9453 - accuracy: 0.7199 - val_loss: 3.0192 - val_accuracy: 0.7115\n",
            "Epoch 6/10\n",
            "58/58 [==============================] - 73s 1s/step - loss: 2.7796 - accuracy: 0.7199 - val_loss: 2.8278 - val_accuracy: 0.7115\n",
            "Epoch 7/10\n",
            "58/58 [==============================] - 73s 1s/step - loss: 2.6755 - accuracy: 0.7205 - val_loss: 2.7240 - val_accuracy: 0.7123\n",
            "Epoch 8/10\n",
            "58/58 [==============================] - 70s 1s/step - loss: 2.6441 - accuracy: 0.7215 - val_loss: 2.7198 - val_accuracy: 0.7150\n",
            "Epoch 9/10\n",
            "58/58 [==============================] - 73s 1s/step - loss: 2.6255 - accuracy: 0.7224 - val_loss: 2.7329 - val_accuracy: 0.7136\n",
            "Epoch 10/10\n",
            "58/58 [==============================] - 73s 1s/step - loss: 2.6170 - accuracy: 0.7228 - val_loss: 2.6897 - val_accuracy: 0.7147\n"
          ]
        },
        {
          "output_type": "execute_result",
          "data": {
            "text/plain": [
              "<keras.src.callbacks.History at 0x79f6547e51e0>"
            ]
          },
          "metadata": {},
          "execution_count": 26
        }
      ],
      "source": [
        "model.fit(x_train,y_train,batch_size=256,validation_split=0.2,epochs=10)"
      ]
    },
    {
      "cell_type": "markdown",
      "metadata": {
        "id": "oDh1z8PxyyUm"
      },
      "source": [
        "**Model Evaluation**"
      ]
    },
    {
      "cell_type": "code",
      "execution_count": 27,
      "metadata": {
        "id": "N6RsU6vnwPSG",
        "colab": {
          "base_uri": "https://localhost:8080/"
        },
        "outputId": "19ae3748-a52d-43f1-cc3c-ce31f6ae5177"
      },
      "outputs": [
        {
          "output_type": "stream",
          "name": "stdout",
          "text": [
            "193/193 [==============================] - 21s 109ms/step - loss: 2.6278 - accuracy: 0.7217\n"
          ]
        },
        {
          "output_type": "execute_result",
          "data": {
            "text/plain": [
              "[2.6277832984924316, 0.7217045426368713]"
            ]
          },
          "metadata": {},
          "execution_count": 27
        }
      ],
      "source": [
        "model.evaluate(x_test,y_test)"
      ]
    },
    {
      "cell_type": "code",
      "execution_count": 28,
      "metadata": {
        "colab": {
          "base_uri": "https://localhost:8080/"
        },
        "id": "kPj7TREzxxME",
        "outputId": "a5d80f4d-772c-4f57-f726-65cfe64bc17e"
      },
      "outputs": [
        {
          "output_type": "stream",
          "name": "stdout",
          "text": [
            "Model saved successfully.\n"
          ]
        }
      ],
      "source": [
        "from joblib import dump\n",
        "\n",
        "# save the model\n",
        "model_path = 'model.joblib'\n",
        "dump(model, model_path)\n",
        "print(\"Model saved successfully.\")"
      ]
    },
    {
      "cell_type": "code",
      "execution_count": 29,
      "metadata": {
        "colab": {
          "base_uri": "https://localhost:8080/"
        },
        "id": "5u6JrXK-2Hoz",
        "outputId": "718d3bfc-2d99-4836-df28-834f616a4f5c"
      },
      "outputs": [
        {
          "output_type": "stream",
          "name": "stdout",
          "text": [
            "Model loaded successfully.\n"
          ]
        }
      ],
      "source": [
        "from joblib import load\n",
        "\n",
        "# Load the saved model\n",
        "loaded_model = load(model_path)\n",
        "print(\"Model loaded successfully.\")"
      ]
    },
    {
      "cell_type": "code",
      "execution_count": 78,
      "metadata": {
        "id": "e2AcetjswXrE",
        "colab": {
          "base_uri": "https://localhost:8080/"
        },
        "outputId": "b3e3ef8c-d01e-4e2a-dad2-3e02dd4dc555"
      },
      "outputs": [
        {
          "output_type": "stream",
          "name": "stdout",
          "text": [
            "1/1 [==============================] - 0s 67ms/step\n"
          ]
        }
      ],
      "source": [
        "# Get the first English sentence (already padded)\n",
        "test_sentence = x_test[100]\n",
        "# Reshape to add batch dimension (None, sequence_length, embedding_dim)\n",
        "test_sentence = np.expand_dims(test_sentence, axis=0)\n",
        "\n",
        "# Make prediction\n",
        "preds = model.predict(test_sentence)\n"
      ]
    },
    {
      "cell_type": "code",
      "execution_count": 79,
      "metadata": {
        "id": "vsYcCk3ezdzp",
        "colab": {
          "base_uri": "https://localhost:8080/"
        },
        "outputId": "d607c283-96e6-4212-d111-70e958bc7ad4"
      },
      "outputs": [
        {
          "output_type": "execute_result",
          "data": {
            "text/plain": [
              "array([10484,   353,  3565,     0,     0,     0,     0,     0,     0,\n",
              "           0,     0,     0,     0,     0,     0,     0,     0,     0,\n",
              "           0,     0,     0,     0,     0,     0,     0,     0,     0,\n",
              "           0,     0,     0,     0,     0,     0,     0,     0,     0,\n",
              "           0,     0,     0,     0,     0,     0,     0,     0,     0,\n",
              "           0,     0,     0,     0,     0], dtype=int32)"
            ]
          },
          "metadata": {},
          "execution_count": 79
        }
      ],
      "source": [
        "x_test[100]"
      ]
    },
    {
      "cell_type": "code",
      "execution_count": 80,
      "metadata": {
        "id": "rkkqKG_RsNl3",
        "colab": {
          "base_uri": "https://localhost:8080/"
        },
        "outputId": "3e7cdfc0-aa94-4adf-918f-75221b61c6b8"
      },
      "outputs": [
        {
          "output_type": "execute_result",
          "data": {
            "text/plain": [
              "(1, 50, 57847)"
            ]
          },
          "metadata": {},
          "execution_count": 80
        }
      ],
      "source": [
        "preds.shape"
      ]
    },
    {
      "cell_type": "code",
      "execution_count": 81,
      "metadata": {
        "id": "vgwwGaj-sNok",
        "colab": {
          "base_uri": "https://localhost:8080/"
        },
        "outputId": "6e3742e1-7393-4114-d380-c05def3419d7"
      },
      "outputs": [
        {
          "output_type": "execute_result",
          "data": {
            "text/plain": [
              "(50, 57847)"
            ]
          },
          "metadata": {},
          "execution_count": 81
        }
      ],
      "source": [
        "preds[0].shape"
      ]
    },
    {
      "cell_type": "code",
      "execution_count": 82,
      "metadata": {
        "id": "LEVc0TK1sNrL"
      },
      "outputs": [],
      "source": [
        "predicts=[]\n",
        "for i in preds:\n",
        "    predicts.append(np.argmax(i[0]))"
      ]
    },
    {
      "cell_type": "code",
      "execution_count": 83,
      "metadata": {
        "id": "pFxVMb3ZsNt0"
      },
      "outputs": [],
      "source": [
        "\n",
        "arabic_idx_2_word[0]=\"<pad>\""
      ]
    },
    {
      "cell_type": "code",
      "execution_count": 84,
      "metadata": {
        "id": "ZotYbo5RsNve",
        "colab": {
          "base_uri": "https://localhost:8080/"
        },
        "outputId": "0134f517-38a4-4284-fdbb-0eda6858fcac"
      },
      "outputs": [
        {
          "output_type": "stream",
          "name": "stdout",
          "text": [
            "['ostriches', \"can't\", 'fly']\n"
          ]
        }
      ],
      "source": [
        "print([english_idx_2_word[w] for w in x_test[100] if w != 0])"
      ]
    },
    {
      "cell_type": "code",
      "execution_count": 85,
      "metadata": {
        "id": "BNKIDq4MsfZK",
        "colab": {
          "base_uri": "https://localhost:8080/"
        },
        "outputId": "0b83625e-8bc4-403d-f9d4-a3a44a16793c"
      },
      "outputs": [
        {
          "output_type": "stream",
          "name": "stdout",
          "text": [
            "['النعام', 'لا', 'يمكنه', 'الطيران']\n"
          ]
        }
      ],
      "source": [
        "print([arabic_idx_2_word[w] for w in y_test[100] if w != 0])"
      ]
    },
    {
      "cell_type": "code",
      "source": [],
      "metadata": {
        "id": "qhz1KeBNzMCH"
      },
      "execution_count": null,
      "outputs": []
    },
    {
      "cell_type": "code",
      "source": [],
      "metadata": {
        "id": "rc2KiH586HL_"
      },
      "execution_count": null,
      "outputs": []
    },
    {
      "cell_type": "code",
      "source": [],
      "metadata": {
        "id": "DRJA3exTzMEy"
      },
      "execution_count": null,
      "outputs": []
    },
    {
      "cell_type": "code",
      "source": [],
      "metadata": {
        "id": "0HV-RLThzMJ3"
      },
      "execution_count": null,
      "outputs": []
    },
    {
      "cell_type": "code",
      "source": [],
      "metadata": {
        "id": "kOz3PP0XzMMd"
      },
      "execution_count": null,
      "outputs": []
    },
    {
      "cell_type": "code",
      "source": [],
      "metadata": {
        "id": "Biqe2aVozMHW"
      },
      "execution_count": null,
      "outputs": []
    },
    {
      "cell_type": "code",
      "source": [],
      "metadata": {
        "id": "8Lm_poFtzMO9"
      },
      "execution_count": null,
      "outputs": []
    },
    {
      "cell_type": "code",
      "source": [],
      "metadata": {
        "id": "5maN8VVTzMUI"
      },
      "execution_count": null,
      "outputs": []
    }
  ],
  "metadata": {
    "accelerator": "GPU",
    "colab": {
      "gpuType": "T4",
      "provenance": [],
      "include_colab_link": true
    },
    "kernelspec": {
      "display_name": "Python 3",
      "name": "python3"
    },
    "language_info": {
      "name": "python"
    }
  },
  "nbformat": 4,
  "nbformat_minor": 0
}